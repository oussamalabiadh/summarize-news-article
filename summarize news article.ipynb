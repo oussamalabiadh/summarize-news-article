{
 "cells": [
  {
   "cell_type": "code",
   "execution_count": 1,
   "id": "657096fe-902f-49ef-a0a0-aae43d3e9a49",
   "metadata": {},
   "outputs": [],
   "source": [
    "import tkinter as tk\n",
    "import nltk\n",
    "from textblob import TextBlob\n",
    "from newspaper import Article"
   ]
  },
  {
   "cell_type": "code",
   "execution_count": 2,
   "id": "3ac0c61f-6db0-48ba-aa85-2c44bc220d33",
   "metadata": {},
   "outputs": [],
   "source": [
    "\n",
    "def summarize() :\n",
    "    url= utext.get('1.0',\"end\").strip()\n",
    "    article=Article(url)\n",
    "    article.download()\n",
    "    article.parse()\n",
    "    \n",
    "    article.nlp()\n",
    "    title.config(state=\"normal\")\n",
    "    author.config(state=\"normal\")\n",
    "    publication.config(state=\"normal\")\n",
    "    summary.config(state=\"normal\")\n",
    "    sentiment.config(state=\"normal\")\n",
    "    title.delete('1.0','end')\n",
    "    title.insert('1.0',article.title)\n",
    "    \n",
    "    author.delete('1.0','end')\n",
    "    author.insert('1.0',article.authors)\n",
    "    \n",
    "    publication.delete('1.0','end')\n",
    "    publication.insert('1.0',article.publish_date)\n",
    "    \n",
    "    summary.delete('1.0','end')\n",
    "    summary.insert('1.0',article.summary)\n",
    "    analysis = TextBlob(article.text)\n",
    "    sentiment.delete('1.0','end')\n",
    "\n",
    "    sentiment.insert('1.0',f'polarity :{analysis.polarity}Sentiment : {\"positif\" if analysis.polarity > 0 else \"negatif\" if analysis.polarity <0 else \"neutral\"}')\n",
    "    \n",
    "    title.config(state=\"disabled\")\n",
    "    author.config(state=\"disabled\")\n",
    "    publication.config(state=\"disabled\")\n",
    "    summary.config(state=\"disabled\")\n",
    "    sentiment.config(state=\"disabled\")\n",
    "    print(f'title:{article.title}')\n",
    "    print(f'authors:{article.authors}')\n",
    "    print(f'publication Date:{article.publish_date}')\n",
    "    print(f'Summary:{article.summary}')\n"
   ]
  },
  {
   "cell_type": "code",
   "execution_count": null,
   "id": "e9a5ada6-966a-44e7-b84c-91fb48b4c2e9",
   "metadata": {},
   "outputs": [
    {
     "name": "stdout",
     "output_type": "stream",
     "text": [
      "title:In Venezuela’s diaspora, protests erupt against Maduro’s contested election\n",
      "authors:['Christina Noriega']\n",
      "publication Date:2024-08-29 00:00:00\n",
      "Summary:Bogota, Colombia – On the night of July 28, Gaby Arellano, a 41-year-old Venezuelan political refugee, watched her country’s presidential election unfold from Colombia’s capital, Bogota.\n",
      "That hope, however, turned to disappointment and frustration when Venezuela's electoral body claimed victory for incumbent President Nicolas Maduro.\n",
      "And Arellano has become one of the most prominent voices in a protest movement that has spilled beyond Venezuela’s borders, as citizens clamour for transparent voting results.\n",
      "In the weeks since the presidential election, Venezuelan migrants and refugees are utilising their political savvy to lobby legislators and help shape foreign policy.\n",
      "“In the case of the Venezuelan diaspora, we’re seeing a much stronger political voice,” Jimenez Sandoval explained.\n",
      "title:In JD Vance’s home state of Ohio, an ongoing fight against opioid addiction\n",
      "authors:['Stephen Starr']\n",
      "publication Date:2024-08-30 00:00:00\n",
      "Summary:Middletown, Ohio – The speech was JD Vance’s chance to introduce himself to a national audience.\n",
      "A freshman senator from Ohio, Vance had only 18 months of experience in Congress when Republican presidential candidate Donald Trump picked him to be his 2024 running mate.\n",
      "What he decided to share was a glimpse at his family’s history with opioid addiction.\n",
      "But in Vance’s home state of Ohio, addiction experts and advocates say they have yet to hear policy proposals in this year’s presidential race that would adequately address the complex nature of the opioid crisis.\n",
      "It even pushed the state legislature to support the “caregivers” who help family members affected by opioid addiction.\n"
     ]
    }
   ],
   "source": [
    "root= tk.Tk()\n",
    "root.title(\"News Summarizer\")\n",
    "root.geometry(\"1200x600\")\n",
    "tlabel=tk.Label(root, text='title')\n",
    "tlabel.pack()\n",
    "title= tk.Text(root , height=1, width=140)\n",
    "title.config(state='disabled', bg= '#dddddd')\n",
    "title.pack()\n",
    "alabel=tk.Label(root, text='Author')\n",
    "alabel.pack()\n",
    "author= tk.Text(root , height=1, width=140)\n",
    "author.config(state='disabled', bg= '#dddddd')\n",
    "author.pack()\n",
    "plabel=tk.Label(root, text='publication')\n",
    "plabel.pack()\n",
    "publication= tk.Text(root , height=1, width=140)\n",
    "publication.config(state='disabled', bg= '#dddddd')\n",
    "publication.pack()\n",
    "slabel=tk.Label(root, text='Summary')\n",
    "slabel.pack()\n",
    "summary= tk.Text(root , height=20, width=140)\n",
    "summary.config(state='disabled', bg= '#dddddd')\n",
    "summary.pack()\n",
    "selabel=tk.Label(root, text='sentiment')\n",
    "selabel.pack()\n",
    "sentiment= tk.Text(root , height=1, width=140)\n",
    "sentiment.config(state='disabled', bg= '#dddddd')\n",
    "sentiment.pack()\n",
    "ulabel=tk.Label(root, text='URL')\n",
    "ulabel.pack()\n",
    "utext= tk.Text(root , height=1, width=140)\n",
    "utext.pack()\n",
    "btn =tk.Button(root,text=\"Summarize\", command=summarize)\n",
    "btn.pack()\n",
    "root.mainloop()"
   ]
  },
  {
   "cell_type": "code",
   "execution_count": null,
   "id": "029d4025-9b3b-4132-8dc3-eb1f813e49b9",
   "metadata": {},
   "outputs": [],
   "source": []
  },
  {
   "cell_type": "code",
   "execution_count": null,
   "id": "a8e4832d-4fe3-43ed-ba13-8279649fe25e",
   "metadata": {},
   "outputs": [],
   "source": []
  }
 ],
 "metadata": {
  "kernelspec": {
   "display_name": "Python 3 (ipykernel)",
   "language": "python",
   "name": "python3"
  },
  "language_info": {
   "codemirror_mode": {
    "name": "ipython",
    "version": 3
   },
   "file_extension": ".py",
   "mimetype": "text/x-python",
   "name": "python",
   "nbconvert_exporter": "python",
   "pygments_lexer": "ipython3",
   "version": "3.9.18"
  }
 },
 "nbformat": 4,
 "nbformat_minor": 5
}
